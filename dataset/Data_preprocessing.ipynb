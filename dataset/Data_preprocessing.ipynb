{
 "cells": [
  {
   "cell_type": "code",
   "execution_count": 29,
   "metadata": {},
   "outputs": [],
   "source": [
    "import pandas as pd\n",
    "import numpy as np"
   ]
  },
  {
   "cell_type": "code",
   "execution_count": 30,
   "metadata": {},
   "outputs": [],
   "source": [
    "train1 = pd.read_csv('train_validation.csv')\n",
    "test1 = pd.read_csv('test.csv')\n",
    "\n",
    "train2 = pd.read_csv('actual_train_dataset.csv')\n",
    "test2 = pd.read_csv('actual_test_dataset.csv')"
   ]
  },
  {
   "cell_type": "code",
   "execution_count": 31,
   "metadata": {},
   "outputs": [
    {
     "data": {
      "text/plain": [
       "NCBIGeneID                 0\n",
       "Symbol                     0\n",
       "Description                0\n",
       "GeneType                   0\n",
       "GeneGroupIdentifier    18677\n",
       "GeneGroupMethod        18677\n",
       "NucleotideSequence         0\n",
       "dtype: int64"
      ]
     },
     "execution_count": 31,
     "metadata": {},
     "output_type": "execute_result"
    }
   ],
   "source": [
    "train2.isnull().sum()"
   ]
  },
  {
   "cell_type": "code",
   "execution_count": 32,
   "metadata": {},
   "outputs": [
    {
     "data": {
      "text/plain": [
       "NCBIGeneID                0\n",
       "Symbol                    0\n",
       "Description               0\n",
       "GeneType                  0\n",
       "GeneGroupIdentifier    4661\n",
       "GeneGroupMethod        4661\n",
       "NucleotideSequence        0\n",
       "dtype: int64"
      ]
     },
     "execution_count": 32,
     "metadata": {},
     "output_type": "execute_result"
    }
   ],
   "source": [
    "test2.isnull().sum()"
   ]
  },
  {
   "cell_type": "code",
   "execution_count": 33,
   "metadata": {},
   "outputs": [
    {
     "data": {
      "text/plain": [
       "(18308, 7)"
      ]
     },
     "execution_count": 33,
     "metadata": {},
     "output_type": "execute_result"
    }
   ],
   "source": [
    "train1.shape"
   ]
  },
  {
   "cell_type": "code",
   "execution_count": 34,
   "metadata": {},
   "outputs": [
    {
     "data": {
      "text/plain": [
       "(19023, 7)"
      ]
     },
     "execution_count": 34,
     "metadata": {},
     "output_type": "execute_result"
    }
   ],
   "source": [
    "train2.shape"
   ]
  },
  {
   "cell_type": "code",
   "execution_count": 35,
   "metadata": {},
   "outputs": [
    {
     "data": {
      "text/plain": [
       "(4578, 7)"
      ]
     },
     "execution_count": 35,
     "metadata": {},
     "output_type": "execute_result"
    }
   ],
   "source": [
    "test1.shape"
   ]
  },
  {
   "cell_type": "code",
   "execution_count": 36,
   "metadata": {},
   "outputs": [
    {
     "data": {
      "text/plain": [
       "(4756, 7)"
      ]
     },
     "execution_count": 36,
     "metadata": {},
     "output_type": "execute_result"
    }
   ],
   "source": [
    "test2.shape"
   ]
  },
  {
   "cell_type": "code",
   "execution_count": 37,
   "metadata": {},
   "outputs": [],
   "source": [
    "train1['GeneGroupMethod'].fillna(\"NCBI Ortholog\", inplace=True)\n",
    "train2['GeneGroupMethod'].fillna(\"NCBI Ortholog\", inplace=True)\n",
    "test1['GeneGroupMethod'].fillna(\"NCBI Ortholog\", inplace=True)\n",
    "test2['GeneGroupMethod'].fillna(\"NCBI Ortholog\", inplace=True)"
   ]
  },
  {
   "cell_type": "code",
   "execution_count": 38,
   "metadata": {},
   "outputs": [],
   "source": [
    "train1.drop('GeneGroupIdentifier', axis=1, inplace=True)\n",
    "train2.drop('GeneGroupIdentifier', axis=1, inplace=True)\n",
    "test1.drop('GeneGroupIdentifier', axis=1, inplace=True)\n",
    "test2.drop('GeneGroupIdentifier', axis=1, inplace=True)"
   ]
  },
  {
   "cell_type": "code",
   "execution_count": 40,
   "metadata": {},
   "outputs": [],
   "source": [
    "cleaned_train = pd.concat([train1, train2])\n",
    "cleaned_test = pd.concat([test1, test2])"
   ]
  },
  {
   "cell_type": "code",
   "execution_count": 48,
   "metadata": {},
   "outputs": [],
   "source": [
    "cleaned_train.drop_duplicates(inplace=True)\n",
    "cleaned_test.drop_duplicates(inplace=True)"
   ]
  },
  {
   "cell_type": "code",
   "execution_count": 52,
   "metadata": {},
   "outputs": [],
   "source": [
    "cleaned_train.to_csv('../N-Gram/cleaned_dataset/train.csv')\n",
    "cleaned_test.to_csv('../N-Gram/cleaned_dataset/test.csv')"
   ]
  }
 ],
 "metadata": {
  "kernelspec": {
   "display_name": "Python 3",
   "language": "python",
   "name": "python3"
  },
  "language_info": {
   "codemirror_mode": {
    "name": "ipython",
    "version": 3
   },
   "file_extension": ".py",
   "mimetype": "text/x-python",
   "name": "python",
   "nbconvert_exporter": "python",
   "pygments_lexer": "ipython3",
   "version": "3.10.11"
  }
 },
 "nbformat": 4,
 "nbformat_minor": 2
}
